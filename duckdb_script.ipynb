{
 "cells": [
  {
   "cell_type": "code",
   "execution_count": 36,
   "metadata": {},
   "outputs": [],
   "source": [
    "import duckdb\n",
    "\n",
    "# we can put arguments in the notebook\n",
    "file_name = \"2022_place_canvas_history.csv\"\n",
    "start = '2022-04-01 12:00:00'\n",
    "end = '2022-04-01 13:00:00'"
   ]
  },
  {
   "cell_type": "code",
   "execution_count": 37,
   "metadata": {},
   "outputs": [],
   "source": [
    "con = duckdb.connect(database=':memory:')\n",
    "tbl = con.sql(f\"SELECT * FROM read_csv('{file_name}')\")"
   ]
  },
  {
   "cell_type": "code",
   "execution_count": 38,
   "metadata": {},
   "outputs": [
    {
     "data": {
      "text/plain": [
       "<duckdb.duckdb.DuckDBPyConnection at 0x19bb90edf30>"
      ]
     },
     "execution_count": 38,
     "metadata": {},
     "output_type": "execute_result"
    }
   ],
   "source": [
    "con.register(\"duckdb_table\", tbl)"
   ]
  },
  {
   "cell_type": "code",
   "execution_count": 39,
   "metadata": {},
   "outputs": [
    {
     "data": {
      "text/plain": [
       "┌─────────────┬───────┐\n",
       "│ pixel_color │ count │\n",
       "│   varchar   │ int64 │\n",
       "├─────────────┼───────┤\n",
       "│ #FFFFFF     │     4 │\n",
       "│ #2450A4     │     3 │\n",
       "│ #FFA800     │     2 │\n",
       "│ #00A368     │     2 │\n",
       "│ #3690EA     │     2 │\n",
       "│ #811E9F     │     2 │\n",
       "│ #FF4500     │     1 │\n",
       "│ #D4D7D9     │     1 │\n",
       "│ #7EED56     │     1 │\n",
       "│ #51E9F4     │     1 │\n",
       "├─────────────┴───────┤\n",
       "│ 10 rows   2 columns │\n",
       "└─────────────────────┘"
      ]
     },
     "execution_count": 39,
     "metadata": {},
     "output_type": "execute_result"
    }
   ],
   "source": [
    "test = con.sql(f\"\"\"SELECT pixel_color, COUNT(*) AS count \n",
    "               FROM duckdb_table \n",
    "               WHERE timestamp BETWEEN '{start}' AND '{end}'\n",
    "               GROUP BY pixel_color \n",
    "               ORDER BY count DESC\"\"\")\n",
    "test"
   ]
  }
 ],
 "metadata": {
  "kernelspec": {
   "display_name": "Python 3",
   "language": "python",
   "name": "python3"
  },
  "language_info": {
   "codemirror_mode": {
    "name": "ipython",
    "version": 3
   },
   "file_extension": ".py",
   "mimetype": "text/x-python",
   "name": "python",
   "nbconvert_exporter": "python",
   "pygments_lexer": "ipython3",
   "version": "3.10.11"
  }
 },
 "nbformat": 4,
 "nbformat_minor": 2
}
