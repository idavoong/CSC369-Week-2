{
 "cells": [
  {
   "cell_type": "code",
   "execution_count": 1,
   "metadata": {},
   "outputs": [],
   "source": [
    "import polars as pl\n",
    "\n",
    "file_name = \"2022_place_canvas_history.csv\"\n",
    "start = '2022-04-01 12:00:00'\n",
    "end = '2022-04-01 13:00:00'"
   ]
  },
  {
   "cell_type": "code",
   "execution_count": 18,
   "metadata": {},
   "outputs": [],
   "source": [
    "# df = pl.read_csv(file_name)\n",
    "# df\n",
    "\n",
    "q1 = (\n",
    "    pl.scan_csv(file_name)\n",
    "    .filter((pl.col(\"timestamp\") >= start) & (pl.col(\"timestamp\") <= end))\n",
    "    .group_by(\"coordinate\")\n",
    "    .len()\n",
    "    .max()\n",
    ")"
   ]
  },
  {
   "cell_type": "code",
   "execution_count": 19,
   "metadata": {},
   "outputs": [],
   "source": [
    "frame = q1.collect()"
   ]
  },
  {
   "cell_type": "code",
   "execution_count": 21,
   "metadata": {},
   "outputs": [
    {
     "data": {
      "text/html": [
       "<div><style>\n",
       ".dataframe > thead > tr,\n",
       ".dataframe > tbody > tr {\n",
       "  text-align: right;\n",
       "  white-space: pre-wrap;\n",
       "}\n",
       "</style>\n",
       "<small>shape: (1, 2)</small><table border=\"1\" class=\"dataframe\"><thead><tr><th>coordinate</th><th>len</th></tr><tr><td>str</td><td>u32</td></tr></thead><tbody><tr><td>&quot;999,999&quot;</td><td>4</td></tr></tbody></table></div>"
      ],
      "text/plain": [
       "shape: (1, 2)\n",
       "┌────────────┬─────┐\n",
       "│ coordinate ┆ len │\n",
       "│ ---        ┆ --- │\n",
       "│ str        ┆ u32 │\n",
       "╞════════════╪═════╡\n",
       "│ 999,999    ┆ 4   │\n",
       "└────────────┴─────┘"
      ]
     },
     "execution_count": 21,
     "metadata": {},
     "output_type": "execute_result"
    }
   ],
   "source": [
    "frame"
   ]
  },
  {
   "cell_type": "code",
   "execution_count": 22,
   "metadata": {},
   "outputs": [
    {
     "data": {
      "text/plain": [
       "'999,999'"
      ]
     },
     "execution_count": 22,
     "metadata": {},
     "output_type": "execute_result"
    }
   ],
   "source": [
    "frame.row(0)[0]"
   ]
  },
  {
   "cell_type": "code",
   "execution_count": 3,
   "metadata": {},
   "outputs": [],
   "source": [
    "\n",
    "# filter_df = df.filter(pl.col(\"timestamp\").is_between(start, end))\n",
    "filter_df = df.filter((pl.col(\"timestamp\") >= start) & (pl.col(\"timestamp\") <= end))"
   ]
  },
  {
   "cell_type": "code",
   "execution_count": 4,
   "metadata": {},
   "outputs": [
    {
     "data": {
      "text/html": [
       "<div><style>\n",
       ".dataframe > thead > tr,\n",
       ".dataframe > tbody > tr {\n",
       "  text-align: right;\n",
       "  white-space: pre-wrap;\n",
       "}\n",
       "</style>\n",
       "<small>shape: (5, 2)</small><table border=\"1\" class=\"dataframe\"><thead><tr><th>pixel_color</th><th>count</th></tr><tr><td>str</td><td>u32</td></tr></thead><tbody><tr><td>&quot;#FFFFFF&quot;</td><td>4</td></tr><tr><td>&quot;#2450A4&quot;</td><td>3</td></tr><tr><td>&quot;#FFA800&quot;</td><td>2</td></tr><tr><td>&quot;#3690EA&quot;</td><td>2</td></tr><tr><td>&quot;#00A368&quot;</td><td>2</td></tr></tbody></table></div>"
      ],
      "text/plain": [
       "shape: (5, 2)\n",
       "┌─────────────┬───────┐\n",
       "│ pixel_color ┆ count │\n",
       "│ ---         ┆ ---   │\n",
       "│ str         ┆ u32   │\n",
       "╞═════════════╪═══════╡\n",
       "│ #FFFFFF     ┆ 4     │\n",
       "│ #2450A4     ┆ 3     │\n",
       "│ #FFA800     ┆ 2     │\n",
       "│ #3690EA     ┆ 2     │\n",
       "│ #00A368     ┆ 2     │\n",
       "└─────────────┴───────┘"
      ]
     },
     "execution_count": 4,
     "metadata": {},
     "output_type": "execute_result"
    }
   ],
   "source": [
    "color = filter_df['pixel_color'].value_counts()\n",
    "color.sort(by=\"count\", descending=True).head()"
   ]
  },
  {
   "cell_type": "code",
   "execution_count": 5,
   "metadata": {},
   "outputs": [
    {
     "data": {
      "text/html": [
       "<div><style>\n",
       ".dataframe > thead > tr,\n",
       ".dataframe > tbody > tr {\n",
       "  text-align: right;\n",
       "  white-space: pre-wrap;\n",
       "}\n",
       "</style>\n",
       "<small>shape: (5, 2)</small><table border=\"1\" class=\"dataframe\"><thead><tr><th>coordinate</th><th>count</th></tr><tr><td>str</td><td>u32</td></tr></thead><tbody><tr><td>&quot;5,29&quot;</td><td>4</td></tr><tr><td>&quot;1,1&quot;</td><td>1</td></tr><tr><td>&quot;42,42&quot;</td><td>1</td></tr><tr><td>&quot;313,759&quot;</td><td>1</td></tr><tr><td>&quot;902,982&quot;</td><td>1</td></tr></tbody></table></div>"
      ],
      "text/plain": [
       "shape: (5, 2)\n",
       "┌────────────┬───────┐\n",
       "│ coordinate ┆ count │\n",
       "│ ---        ┆ ---   │\n",
       "│ str        ┆ u32   │\n",
       "╞════════════╪═══════╡\n",
       "│ 5,29       ┆ 4     │\n",
       "│ 1,1        ┆ 1     │\n",
       "│ 42,42      ┆ 1     │\n",
       "│ 313,759    ┆ 1     │\n",
       "│ 902,982    ┆ 1     │\n",
       "└────────────┴───────┘"
      ]
     },
     "execution_count": 5,
     "metadata": {},
     "output_type": "execute_result"
    }
   ],
   "source": [
    "coord = filter_df['coordinate'].value_counts()\n",
    "coord.sort(by=\"count\", descending=True).head()"
   ]
  }
 ],
 "metadata": {
  "kernelspec": {
   "display_name": "Python 3",
   "language": "python",
   "name": "python3"
  },
  "language_info": {
   "codemirror_mode": {
    "name": "ipython",
    "version": 3
   },
   "file_extension": ".py",
   "mimetype": "text/x-python",
   "name": "python",
   "nbconvert_exporter": "python",
   "pygments_lexer": "ipython3",
   "version": "3.10.11"
  }
 },
 "nbformat": 4,
 "nbformat_minor": 2
}
