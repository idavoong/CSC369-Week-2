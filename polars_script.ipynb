{
 "cells": [
  {
   "cell_type": "code",
   "execution_count": 1,
   "metadata": {},
   "outputs": [],
   "source": [
    "import polars as pl\n",
    "\n",
    "file_name = \"2022_place_canvas_history.csv\"\n",
    "start = '2022-04-01 12:00:00'\n",
    "end = '2022-04-01 13:00:00'"
   ]
  },
  {
   "cell_type": "code",
   "execution_count": 2,
   "metadata": {},
   "outputs": [
    {
     "data": {
      "text/html": [
       "<div><style>\n",
       ".dataframe > thead > tr,\n",
       ".dataframe > tbody > tr {\n",
       "  text-align: right;\n",
       "  white-space: pre-wrap;\n",
       "}\n",
       "</style>\n",
       "<small>shape: (160_353_104, 4)</small><table border=\"1\" class=\"dataframe\"><thead><tr><th>timestamp</th><th>user_id</th><th>pixel_color</th><th>coordinate</th></tr><tr><td>str</td><td>str</td><td>str</td><td>str</td></tr></thead><tbody><tr><td>&quot;2022-04-04 00:53:51.577 UTC&quot;</td><td>&quot;ovTZk4GyTS1mDQnTbV+vDOCu1f+u6w…</td><td>&quot;#00CCC0&quot;</td><td>&quot;826,1048&quot;</td></tr><tr><td>&quot;2022-04-04 00:53:53.758 UTC&quot;</td><td>&quot;6NSgFa1CvIPly1VniNhlbrmoN3vgDF…</td><td>&quot;#94B3FF&quot;</td><td>&quot;583,1031&quot;</td></tr><tr><td>&quot;2022-04-04 00:53:54.685 UTC&quot;</td><td>&quot;O5Oityp3Z3owzTuwM9XnMggpLcqKEu…</td><td>&quot;#6A5CFF&quot;</td><td>&quot;1873,558&quot;</td></tr><tr><td>&quot;2022-04-04 00:54:57.541 UTC&quot;</td><td>&quot;tc273UiqS0wKa6VwiOs/iz/t4LyPYr…</td><td>&quot;#009EAA&quot;</td><td>&quot;1627,255&quot;</td></tr><tr><td>&quot;2022-04-04 00:55:16.307 UTC&quot;</td><td>&quot;OOWsU/HLb4UUkQwclDeXFtsJTOXMlA…</td><td>&quot;#94B3FF&quot;</td><td>&quot;49,1478&quot;</td></tr><tr><td>&hellip;</td><td>&hellip;</td><td>&hellip;</td><td>&hellip;</td></tr><tr><td>&quot;2022-04-05 00:14:00.066 UTC&quot;</td><td>&quot;sDaT4DUawCTI85BNBqxz8mDFuso06X…</td><td>&quot;#FFFFFF&quot;</td><td>&quot;408,493&quot;</td></tr><tr><td>&quot;2022-04-05 00:14:00.145 UTC&quot;</td><td>&quot;knkcX6Cnshxw3zC3OFAMy24uaCXBFr…</td><td>&quot;#FFFFFF&quot;</td><td>&quot;1232,312&quot;</td></tr><tr><td>&quot;2022-04-05 00:14:00.172 UTC&quot;</td><td>&quot;go9NwQ17mBTqTrl073iEFokWt8iZyE…</td><td>&quot;#FFFFFF&quot;</td><td>&quot;770,866&quot;</td></tr><tr><td>&quot;2022-04-05 00:14:00.195 UTC&quot;</td><td>&quot;F9tNKBGhOY4FDe8FQ3wJv8m4dXlczU…</td><td>&quot;#FFFFFF&quot;</td><td>&quot;1046,1721&quot;</td></tr><tr><td>&quot;2022-04-05 00:14:00.207 UTC&quot;</td><td>&quot;LzG3QjSnAoqOnDpWa92ghtR8ewrm8O…</td><td>&quot;#FFFFFF&quot;</td><td>&quot;0,1999&quot;</td></tr></tbody></table></div>"
      ],
      "text/plain": [
       "shape: (160_353_104, 4)\n",
       "┌─────────────────────────────┬─────────────────────────────────┬─────────────┬────────────┐\n",
       "│ timestamp                   ┆ user_id                         ┆ pixel_color ┆ coordinate │\n",
       "│ ---                         ┆ ---                             ┆ ---         ┆ ---        │\n",
       "│ str                         ┆ str                             ┆ str         ┆ str        │\n",
       "╞═════════════════════════════╪═════════════════════════════════╪═════════════╪════════════╡\n",
       "│ 2022-04-04 00:53:51.577 UTC ┆ ovTZk4GyTS1mDQnTbV+vDOCu1f+u6w… ┆ #00CCC0     ┆ 826,1048   │\n",
       "│ 2022-04-04 00:53:53.758 UTC ┆ 6NSgFa1CvIPly1VniNhlbrmoN3vgDF… ┆ #94B3FF     ┆ 583,1031   │\n",
       "│ 2022-04-04 00:53:54.685 UTC ┆ O5Oityp3Z3owzTuwM9XnMggpLcqKEu… ┆ #6A5CFF     ┆ 1873,558   │\n",
       "│ 2022-04-04 00:54:57.541 UTC ┆ tc273UiqS0wKa6VwiOs/iz/t4LyPYr… ┆ #009EAA     ┆ 1627,255   │\n",
       "│ 2022-04-04 00:55:16.307 UTC ┆ OOWsU/HLb4UUkQwclDeXFtsJTOXMlA… ┆ #94B3FF     ┆ 49,1478    │\n",
       "│ …                           ┆ …                               ┆ …           ┆ …          │\n",
       "│ 2022-04-05 00:14:00.066 UTC ┆ sDaT4DUawCTI85BNBqxz8mDFuso06X… ┆ #FFFFFF     ┆ 408,493    │\n",
       "│ 2022-04-05 00:14:00.145 UTC ┆ knkcX6Cnshxw3zC3OFAMy24uaCXBFr… ┆ #FFFFFF     ┆ 1232,312   │\n",
       "│ 2022-04-05 00:14:00.172 UTC ┆ go9NwQ17mBTqTrl073iEFokWt8iZyE… ┆ #FFFFFF     ┆ 770,866    │\n",
       "│ 2022-04-05 00:14:00.195 UTC ┆ F9tNKBGhOY4FDe8FQ3wJv8m4dXlczU… ┆ #FFFFFF     ┆ 1046,1721  │\n",
       "│ 2022-04-05 00:14:00.207 UTC ┆ LzG3QjSnAoqOnDpWa92ghtR8ewrm8O… ┆ #FFFFFF     ┆ 0,1999     │\n",
       "└─────────────────────────────┴─────────────────────────────────┴─────────────┴────────────┘"
      ]
     },
     "execution_count": 2,
     "metadata": {},
     "output_type": "execute_result"
    }
   ],
   "source": [
    "df = pl.read_csv(file_name)\n",
    "df"
   ]
  },
  {
   "cell_type": "code",
   "execution_count": null,
   "metadata": {},
   "outputs": [
    {
     "data": {
      "text/html": [
       "<div><style>\n",
       ".dataframe > thead > tr,\n",
       ".dataframe > tbody > tr {\n",
       "  text-align: right;\n",
       "  white-space: pre-wrap;\n",
       "}\n",
       "</style>\n",
       "<small>shape: (19, 4)</small><table border=\"1\" class=\"dataframe\"><thead><tr><th>timestamp</th><th>user_id</th><th>pixel_color</th><th>coordinate</th></tr><tr><td>str</td><td>str</td><td>str</td><td>str</td></tr></thead><tbody><tr><td>&quot;2022-04-01 12:44:10.315 UTC&quot;</td><td>&quot;lEjremCtNoQaJ6KGBSWsatGEMXwjqo…</td><td>&quot;#7EED56&quot;</td><td>&quot;42,42&quot;</td></tr><tr><td>&quot;2022-04-01 12:44:22.671 UTC&quot;</td><td>&quot;Eicii64quWgAsZ9SmjGaKgs8FZhUxI…</td><td>&quot;#00A368&quot;</td><td>&quot;999,999&quot;</td></tr><tr><td>&quot;2022-04-01 12:44:26.626 UTC&quot;</td><td>&quot;nkaugJr9j9Yn5dqcluwmWFQHdaLFNO…</td><td>&quot;#3690EA&quot;</td><td>&quot;44,42&quot;</td></tr><tr><td>&quot;2022-04-01 12:44:31.703 UTC&quot;</td><td>&quot;jHYpQW0J/omQcvzImJ/rgoW/Ou+Rel…</td><td>&quot;#D4D7D9&quot;</td><td>&quot;2,2&quot;</td></tr><tr><td>&quot;2022-04-01 12:44:44.409 UTC&quot;</td><td>&quot;4ndpsC1OEKlOZ61a+a/GacvxSqGtsb…</td><td>&quot;#3690EA&quot;</td><td>&quot;23,23&quot;</td></tr><tr><td>&hellip;</td><td>&hellip;</td><td>&hellip;</td><td>&hellip;</td></tr><tr><td>&quot;2022-04-01 12:52:20.058 UTC&quot;</td><td>&quot;FAIWNOHOwfC/dWun5ESHoUH0tde1lD…</td><td>&quot;#FF4500&quot;</td><td>&quot;1,1&quot;</td></tr><tr><td>&quot;2022-04-01 12:52:50.197 UTC&quot;</td><td>&quot;+dCqCeW2lBniMZuPrmA6JH81eE6ffo…</td><td>&quot;#FFFFFF&quot;</td><td>&quot;902,982&quot;</td></tr><tr><td>&quot;2022-04-01 12:53:07.51 UTC&quot;</td><td>&quot;2HJoWzQIKta9FuhvjZ2qzI+jtBbQ/s…</td><td>&quot;#811E9F&quot;</td><td>&quot;16,19&quot;</td></tr><tr><td>&quot;2022-04-01 12:53:59.852 UTC&quot;</td><td>&quot;Aqk0P67XmWfhDBR+XH1hgO0ia9z56F…</td><td>&quot;#2450A4&quot;</td><td>&quot;725,214&quot;</td></tr><tr><td>&quot;2022-04-01 12:54:52.248 UTC&quot;</td><td>&quot;/z7ExokIpje+mlRP44m8wrQuX3NcnY…</td><td>&quot;#FFFFFF&quot;</td><td>&quot;333,333&quot;</td></tr></tbody></table></div>"
      ],
      "text/plain": [
       "shape: (19, 4)\n",
       "┌─────────────────────────────┬─────────────────────────────────┬─────────────┬────────────┐\n",
       "│ timestamp                   ┆ user_id                         ┆ pixel_color ┆ coordinate │\n",
       "│ ---                         ┆ ---                             ┆ ---         ┆ ---        │\n",
       "│ str                         ┆ str                             ┆ str         ┆ str        │\n",
       "╞═════════════════════════════╪═════════════════════════════════╪═════════════╪════════════╡\n",
       "│ 2022-04-01 12:44:10.315 UTC ┆ lEjremCtNoQaJ6KGBSWsatGEMXwjqo… ┆ #7EED56     ┆ 42,42      │\n",
       "│ 2022-04-01 12:44:22.671 UTC ┆ Eicii64quWgAsZ9SmjGaKgs8FZhUxI… ┆ #00A368     ┆ 999,999    │\n",
       "│ 2022-04-01 12:44:26.626 UTC ┆ nkaugJr9j9Yn5dqcluwmWFQHdaLFNO… ┆ #3690EA     ┆ 44,42      │\n",
       "│ 2022-04-01 12:44:31.703 UTC ┆ jHYpQW0J/omQcvzImJ/rgoW/Ou+Rel… ┆ #D4D7D9     ┆ 2,2        │\n",
       "│ 2022-04-01 12:44:44.409 UTC ┆ 4ndpsC1OEKlOZ61a+a/GacvxSqGtsb… ┆ #3690EA     ┆ 23,23      │\n",
       "│ …                           ┆ …                               ┆ …           ┆ …          │\n",
       "│ 2022-04-01 12:52:20.058 UTC ┆ FAIWNOHOwfC/dWun5ESHoUH0tde1lD… ┆ #FF4500     ┆ 1,1        │\n",
       "│ 2022-04-01 12:52:50.197 UTC ┆ +dCqCeW2lBniMZuPrmA6JH81eE6ffo… ┆ #FFFFFF     ┆ 902,982    │\n",
       "│ 2022-04-01 12:53:07.51 UTC  ┆ 2HJoWzQIKta9FuhvjZ2qzI+jtBbQ/s… ┆ #811E9F     ┆ 16,19      │\n",
       "│ 2022-04-01 12:53:59.852 UTC ┆ Aqk0P67XmWfhDBR+XH1hgO0ia9z56F… ┆ #2450A4     ┆ 725,214    │\n",
       "│ 2022-04-01 12:54:52.248 UTC ┆ /z7ExokIpje+mlRP44m8wrQuX3NcnY… ┆ #FFFFFF     ┆ 333,333    │\n",
       "└─────────────────────────────┴─────────────────────────────────┴─────────────┴────────────┘"
      ]
     },
     "execution_count": 14,
     "metadata": {},
     "output_type": "execute_result"
    }
   ],
   "source": [
    "\n",
    "# filter_df = df.filter(pl.col(\"timestamp\").is_between(start, end))\n",
    "filter_df = df.filter((pl.col(\"timestamp\") >= start) & (pl.col(\"timestamp\") <= end))"
   ]
  },
  {
   "cell_type": "code",
   "execution_count": 34,
   "metadata": {},
   "outputs": [
    {
     "data": {
      "text/html": [
       "<div><style>\n",
       ".dataframe > thead > tr,\n",
       ".dataframe > tbody > tr {\n",
       "  text-align: right;\n",
       "  white-space: pre-wrap;\n",
       "}\n",
       "</style>\n",
       "<small>shape: (5, 2)</small><table border=\"1\" class=\"dataframe\"><thead><tr><th>pixel_color</th><th>count</th></tr><tr><td>str</td><td>u32</td></tr></thead><tbody><tr><td>&quot;#FFFFFF&quot;</td><td>4</td></tr><tr><td>&quot;#2450A4&quot;</td><td>3</td></tr><tr><td>&quot;#811E9F&quot;</td><td>2</td></tr><tr><td>&quot;#FFA800&quot;</td><td>2</td></tr><tr><td>&quot;#00A368&quot;</td><td>2</td></tr></tbody></table></div>"
      ],
      "text/plain": [
       "shape: (5, 2)\n",
       "┌─────────────┬───────┐\n",
       "│ pixel_color ┆ count │\n",
       "│ ---         ┆ ---   │\n",
       "│ str         ┆ u32   │\n",
       "╞═════════════╪═══════╡\n",
       "│ #FFFFFF     ┆ 4     │\n",
       "│ #2450A4     ┆ 3     │\n",
       "│ #811E9F     ┆ 2     │\n",
       "│ #FFA800     ┆ 2     │\n",
       "│ #00A368     ┆ 2     │\n",
       "└─────────────┴───────┘"
      ]
     },
     "execution_count": 34,
     "metadata": {},
     "output_type": "execute_result"
    }
   ],
   "source": [
    "color = filter_df['pixel_color'].value_counts()\n",
    "color.sort(by=\"count\", descending=True).head()"
   ]
  },
  {
   "cell_type": "code",
   "execution_count": 37,
   "metadata": {},
   "outputs": [
    {
     "data": {
      "text/html": [
       "<div><style>\n",
       ".dataframe > thead > tr,\n",
       ".dataframe > tbody > tr {\n",
       "  text-align: right;\n",
       "  white-space: pre-wrap;\n",
       "}\n",
       "</style>\n",
       "<small>shape: (5, 2)</small><table border=\"1\" class=\"dataframe\"><thead><tr><th>coordinate</th><th>count</th></tr><tr><td>str</td><td>u32</td></tr></thead><tbody><tr><td>&quot;5,29&quot;</td><td>4</td></tr><tr><td>&quot;1,1&quot;</td><td>1</td></tr><tr><td>&quot;333,333&quot;</td><td>1</td></tr><tr><td>&quot;42,42&quot;</td><td>1</td></tr><tr><td>&quot;420,420&quot;</td><td>1</td></tr></tbody></table></div>"
      ],
      "text/plain": [
       "shape: (5, 2)\n",
       "┌────────────┬───────┐\n",
       "│ coordinate ┆ count │\n",
       "│ ---        ┆ ---   │\n",
       "│ str        ┆ u32   │\n",
       "╞════════════╪═══════╡\n",
       "│ 5,29       ┆ 4     │\n",
       "│ 1,1        ┆ 1     │\n",
       "│ 333,333    ┆ 1     │\n",
       "│ 42,42      ┆ 1     │\n",
       "│ 420,420    ┆ 1     │\n",
       "└────────────┴───────┘"
      ]
     },
     "execution_count": 37,
     "metadata": {},
     "output_type": "execute_result"
    }
   ],
   "source": [
    "coord = filter_df['coordinate'].value_counts()\n",
    "coord.sort(by=\"count\", descending=True).head()"
   ]
  }
 ],
 "metadata": {
  "kernelspec": {
   "display_name": "Python 3",
   "language": "python",
   "name": "python3"
  },
  "language_info": {
   "codemirror_mode": {
    "name": "ipython",
    "version": 3
   },
   "file_extension": ".py",
   "mimetype": "text/x-python",
   "name": "python",
   "nbconvert_exporter": "python",
   "pygments_lexer": "ipython3",
   "version": "3.10.11"
  }
 },
 "nbformat": 4,
 "nbformat_minor": 2
}
