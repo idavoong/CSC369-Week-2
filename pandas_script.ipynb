{
 "cells": [
  {
   "cell_type": "code",
   "execution_count": 1,
   "metadata": {},
   "outputs": [],
   "source": [
    "import pandas as pd\n",
    "\n",
    "file_name = \"2022_place_canvas_history.csv\"\n",
    "start = '2022-04-01 12:00:00'\n",
    "end = '2022-04-01 13:00:00'"
   ]
  },
  {
   "cell_type": "code",
   "execution_count": 2,
   "metadata": {},
   "outputs": [
    {
     "name": "stdout",
     "output_type": "stream",
     "text": [
      "                     timestamp  \\\n",
      "0  2022-04-04 00:53:51.577 UTC   \n",
      "1  2022-04-04 00:53:53.758 UTC   \n",
      "2  2022-04-04 00:53:54.685 UTC   \n",
      "3  2022-04-04 00:54:57.541 UTC   \n",
      "4  2022-04-04 00:55:16.307 UTC   \n",
      "\n",
      "                                             user_id pixel_color coordinate  \n",
      "0  ovTZk4GyTS1mDQnTbV+vDOCu1f+u6w+CkIZ6445vD4XN8a...     #00CCC0   826,1048  \n",
      "1  6NSgFa1CvIPly1VniNhlbrmoN3vgDFbMSKqh+c4TTfrr3d...     #94B3FF   583,1031  \n",
      "2  O5Oityp3Z3owzTuwM9XnMggpLcqKEumsOMKGhRiDTTImWb...     #6A5CFF   1873,558  \n",
      "3  tc273UiqS0wKa6VwiOs/iz/t4LyPYrhL2Q347awn11IQQE...     #009EAA   1627,255  \n",
      "4  OOWsU/HLb4UUkQwclDeXFtsJTOXMlAdNHiRpFA1Qk+SxUr...     #94B3FF    49,1478  \n"
     ]
    }
   ],
   "source": [
    "data = pd.read_csv(file_name)\n",
    "print(data.head())"
   ]
  },
  {
   "cell_type": "code",
   "execution_count": 5,
   "metadata": {},
   "outputs": [],
   "source": [
    "filter = data[(data['timestamp'] > start) & (data['timestamp'] <= end)]"
   ]
  },
  {
   "cell_type": "code",
   "execution_count": 13,
   "metadata": {},
   "outputs": [
    {
     "data": {
      "text/plain": [
       "pixel_color\n",
       "#FFFFFF    4\n",
       "#2450A4    3\n",
       "#FFA800    2\n",
       "#00A368    2\n",
       "#811E9F    2\n",
       "Name: count, dtype: int64"
      ]
     },
     "execution_count": 13,
     "metadata": {},
     "output_type": "execute_result"
    }
   ],
   "source": [
    "color = filter['pixel_color'].value_counts()\n",
    "color.head()"
   ]
  },
  {
   "cell_type": "code",
   "execution_count": 14,
   "metadata": {},
   "outputs": [
    {
     "data": {
      "text/plain": [
       "coordinate\n",
       "5,29       4\n",
       "42,42      1\n",
       "44,42      1\n",
       "999,999    1\n",
       "23,23      1\n",
       "Name: count, dtype: int64"
      ]
     },
     "execution_count": 14,
     "metadata": {},
     "output_type": "execute_result"
    }
   ],
   "source": [
    "coord = filter['coordinate'].value_counts()\n",
    "coord.head()"
   ]
  }
 ],
 "metadata": {
  "kernelspec": {
   "display_name": "Python 3",
   "language": "python",
   "name": "python3"
  },
  "language_info": {
   "codemirror_mode": {
    "name": "ipython",
    "version": 3
   },
   "file_extension": ".py",
   "mimetype": "text/x-python",
   "name": "python",
   "nbconvert_exporter": "python",
   "pygments_lexer": "ipython3",
   "version": "3.10.11"
  }
 },
 "nbformat": 4,
 "nbformat_minor": 2
}
